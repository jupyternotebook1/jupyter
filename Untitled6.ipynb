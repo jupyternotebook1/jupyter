{
 "cells": [
  {
   "cell_type": "code",
   "execution_count": null,
   "id": "a4e02a1c",
   "metadata": {},
   "outputs": [],
   "source": [
    "# Q7\n",
    "\n",
    "import numpy as np\n",
    "import matplotlib.pyplot as plt\n",
    "\n",
    "# Parameters\n",
    "T = 50  # Time periods (years)\n",
    "initial_capital = 100  # Initial amount of capital\n",
    "growth_rate = 0.05  # 5% growth rate per period\n",
    "\n",
    "# Initialize array to store capital over time\n",
    "capital = np.zeros(T)\n",
    "capital[0] = initial_capital\n",
    "\n",
    "# Simulate capital dynamics over time\n",
    "for t in range(1, T):\n",
    "    capital[t] = capital[t-1] * (1 + growth_rate)\n",
    "\n",
    "# Plotting the results\n",
    "plt.figure(figsize=(12, 6))\n",
    "plt.plot(capital, label='Capital Accumulation', color='blue')\n",
    "plt.title('Von Neumann Growth Model')\n",
    "plt.xlabel('Time Periods (Years)')\n",
    "plt.ylabel('Amount of Capital')\n",
    "plt.legend()\n",
    "plt.grid()\n",
    "plt.axhline(y=initial_capital, color='grey', linestyle='--', label='Initial Capital')\n",
    "plt.show()"
   ]
  }
 ],
 "metadata": {
  "kernelspec": {
   "display_name": "Python 3 (ipykernel)",
   "language": "python",
   "name": "python3"
  },
  "language_info": {
   "codemirror_mode": {
    "name": "ipython",
    "version": 3
   },
   "file_extension": ".py",
   "mimetype": "text/x-python",
   "name": "python",
   "nbconvert_exporter": "python",
   "pygments_lexer": "ipython3",
   "version": "3.11.5"
  }
 },
 "nbformat": 4,
 "nbformat_minor": 5
}
