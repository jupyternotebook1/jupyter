{
 "cells": [
  {
   "cell_type": "code",
   "execution_count": null,
   "id": "590630fc",
   "metadata": {},
   "outputs": [],
   "source": [
    "# Q6\n",
    "\n",
    "import numpy as np\n",
    "import matplotlib.pyplot as plt\n",
    "\n",
    "# Parameters\n",
    "T = 50  # Time periods (years)\n",
    "initial_herd_size = 100  # Initial number of cattle\n",
    "reproduction_rate = 0.2  # 20% of the herd reproduces each year\n",
    "mortality_rate = 0.1  # 10% of the herd dies each year\n",
    "price_per_cattle = 150  # Price per unit of cattle\n",
    "\n",
    "# Initialize array to store herd size over time\n",
    "herd_size = np.zeros(T)\n",
    "herd_size[0] = initial_herd_size\n",
    "\n",
    "# Simulate cattle dynamics over time\n",
    "for t in range(1, T):\n",
    "    # Calculate new cattle born and cattle that die\n",
    "    new_cattle = herd_size[t-1] * reproduction_rate\n",
    "    deaths = herd_size[t-1] * mortality_rate\n",
    "    \n",
    "    # Update herd size\n",
    "    herd_size[t] = herd_size[t-1] + new_cattle - deaths\n",
    "\n",
    "# Plotting the results\n",
    "plt.figure(figsize=(12, 6))\n",
    "plt.plot(herd_size, label='Cattle Herd Size', color='green')\n",
    "plt.title('Cattle Cycle Model')\n",
    "plt.xlabel('Time Periods (Years)')\n",
    "plt.ylabel('Number of Cattle')\n",
    "plt.legend()\n",
    "plt.grid()\n",
    "plt.axhline(y=initial_herd_size, color='grey', linestyle='--', label='Initial Herd Size')\n",
    "plt.show()"
   ]
  }
 ],
 "metadata": {
  "kernelspec": {
   "display_name": "Python 3 (ipykernel)",
   "language": "python",
   "name": "python3"
  },
  "language_info": {
   "codemirror_mode": {
    "name": "ipython",
    "version": 3
   },
   "file_extension": ".py",
   "mimetype": "text/x-python",
   "name": "python",
   "nbconvert_exporter": "python",
   "pygments_lexer": "ipython3",
   "version": "3.11.5"
  }
 },
 "nbformat": 4,
 "nbformat_minor": 5
}
