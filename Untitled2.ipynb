{
 "cells": [
  {
   "cell_type": "code",
   "execution_count": null,
   "id": "105c8a89",
   "metadata": {},
   "outputs": [],
   "source": [
    "# Q3\n",
    "\n",
    "import numpy as np\n",
    "import matplotlib.pyplot as plt\n",
    "\n",
    "# Parameters\n",
    "N = 100  # Number of workers\n",
    "T = 10   # Time periods\n",
    "p = 0.5  # Probability of receiving a job offer\n",
    "q = 0.2  # Probability of separation\n",
    "\n",
    "# Initialize arrays to store employment status\n",
    "employment_status = np.ones((N, T)) # 1 = employed, 0 = unemployed\n",
    "\n",
    "# Simulate job search and separation\n",
    "for t in range(1, T):\n",
    "    for i in range(N):\n",
    "        # Job search\n",
    "        if employment_status[i, t-1] == 0:\n",
    "            if np.random.rand() < p:\n",
    "                employment_status[i, t] = 1\n",
    "        # Separation\n",
    "        else:\n",
    "            if np.random.rand() < q:\n",
    "                employment_status[i, t] = 0\n",
    "\n",
    "# Plot employment rates over time\n",
    "employment_rates = np.mean(employment_status, axis=0)\n",
    "\n",
    "plt.figure(figsize=(8, 6))\n",
    "plt.plot(employment_rates)\n",
    "plt.title('Employment Rates Over Time')\n",
    "plt.xlabel('Time')\n",
    "plt.ylabel('Employment Rate')\n",
    "plt.show()"
   ]
  }
 ],
 "metadata": {
  "kernelspec": {
   "display_name": "Python 3 (ipykernel)",
   "language": "python",
   "name": "python3"
  },
  "language_info": {
   "codemirror_mode": {
    "name": "ipython",
    "version": 3
   },
   "file_extension": ".py",
   "mimetype": "text/x-python",
   "name": "python",
   "nbconvert_exporter": "python",
   "pygments_lexer": "ipython3",
   "version": "3.11.5"
  }
 },
 "nbformat": 4,
 "nbformat_minor": 5
}
