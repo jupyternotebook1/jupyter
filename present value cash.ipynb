{
 "cells": [
  {
   "cell_type": "code",
   "execution_count": 1,
   "id": "1b31f710",
   "metadata": {},
   "outputs": [
    {
     "name": "stdout",
     "output_type": "stream",
     "text": [
      "Present Value: 105.26315789472656\n"
     ]
    }
   ],
   "source": [
    "# Q1\n",
    "\n",
    "def present_value(a, r, n):\n",
    "    \"\"\"Calculate the present value of a series of cash flows.\"\"\"\n",
    "    return a * (1 - r**n) / (1 - r)\n",
    "\n",
    "# Example usage:\n",
    "annual_payout = 100  # annual cash flow\n",
    "interest_rate = 0.05  # interest rate\n",
    "years = 10  # number of years\n",
    "\n",
    "# Calculate present value\n",
    "pv = present_value(annual_payout, interest_rate, years)\n",
    "print(\"Present Value:\", pv)"
   ]
  },
  {
   "cell_type": "code",
   "execution_count": null,
   "id": "1071e03a",
   "metadata": {},
   "outputs": [],
   "source": []
  }
 ],
 "metadata": {
  "kernelspec": {
   "display_name": "Python 3 (ipykernel)",
   "language": "python",
   "name": "python3"
  },
  "language_info": {
   "codemirror_mode": {
    "name": "ipython",
    "version": 3
   },
   "file_extension": ".py",
   "mimetype": "text/x-python",
   "name": "python",
   "nbconvert_exporter": "python",
   "pygments_lexer": "ipython3",
   "version": "3.11.5"
  }
 },
 "nbformat": 4,
 "nbformat_minor": 5
}
