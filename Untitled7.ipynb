{
 "cells": [
  {
   "cell_type": "code",
   "execution_count": null,
   "id": "1ed8ab8e",
   "metadata": {},
   "outputs": [],
   "source": [
    "# Q8\n",
    "\n",
    "import numpy as np\n",
    "import matplotlib.pyplot as plt\n",
    "\n",
    "# Parameters\n",
    "T = 50  # Time periods\n",
    "initial_wealth = 1000  # Initial wealth of the agent\n",
    "risk_aversion = 2.0  # Risk aversion coefficient\n",
    "asset_payoffs = np.random.normal(loc=1.0, scale=0.5, size=T)  # Simulated asset payoffs\n",
    "\n",
    "# Initialize arrays to store wealth and asset prices\n",
    "wealth = np.zeros(T)\n",
    "asset_prices = np.zeros(T)\n",
    "wealth[0] = initial_wealth\n",
    "\n",
    "# Simulate the model over time\n",
    "for t in range(1, T):\n",
    "    # Calculate expected utility from asset payoffs\n",
    "    expected_payoff = np.mean(asset_payoffs[:t])  # Average payoff until time t\n",
    "    # Update wealth based on previous wealth and expected payoff\n",
    "    wealth[t] = wealth[t-1] * (1 + expected_payoff / (1 + risk_aversion))\n",
    "    # Calculate asset price based on wealth and risk aversion\n",
    "    asset_prices[t] = wealth[t] / (1 + risk_aversion)\n",
    "\n",
    "# Plotting the results\n",
    "plt.figure(figsize=(12, 6))\n",
    "plt.plot(wealth, label='Wealth Over Time', color='blue')\n",
    "plt.plot(asset_prices, label='Asset Prices Over Time', color='green')\n",
    "plt.title('Lucas Asset Pricing Model')\n",
    "plt.xlabel('Time Periods')\n",
    "plt.ylabel('Value')\n",
    "plt.legend()\n",
    "plt.grid()\n",
    "plt.axhline(y=initial_wealth, color='grey', linestyle='--', label='Initial Wealth')\n",
    "plt.show()"
   ]
  }
 ],
 "metadata": {
  "kernelspec": {
   "display_name": "Python 3 (ipykernel)",
   "language": "python",
   "name": "python3"
  },
  "language_info": {
   "codemirror_mode": {
    "name": "ipython",
    "version": 3
   },
   "file_extension": ".py",
   "mimetype": "text/x-python",
   "name": "python",
   "nbconvert_exporter": "python",
   "pygments_lexer": "ipython3",
   "version": "3.11.5"
  }
 },
 "nbformat": 4,
 "nbformat_minor": 5
}
