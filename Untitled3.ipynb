{
 "cells": [
  {
   "cell_type": "code",
   "execution_count": null,
   "id": "29478976",
   "metadata": {},
   "outputs": [],
   "source": [
    "# Q4\n",
    "\n",
    "import numpy as np\n",
    "import matplotlib.pyplot as plt\n",
    "\n",
    "# Parameters\n",
    "T = 50  # Time periods\n",
    "income_mean = 10\n",
    "income_std = 5\n",
    "tax_rate = 0.2\n",
    "\n",
    "# Generate income shocks\n",
    "np.random.seed(0)  # For reproducibility\n",
    "income_shocks = np.random.normal(income_mean, income_std, T)\n",
    "\n",
    "# Complete Markets Consumption Smoothing\n",
    "complete_consumption = np.zeros(T)\n",
    "for t in range(T):\n",
    "    complete_consumption[t] = (1 - tax_rate) * income_shocks[t] + tax_rate * income_mean\n",
    "\n",
    "# Incomplete Markets Consumption (simple rule)\n",
    "incomplete_consumption = np.zeros(T)\n",
    "for t in range(T):\n",
    "    if t == 0:\n",
    "        incomplete_consumption[t] = (1 - tax_rate) * income_shocks[t]\n",
    "    else:\n",
    "        incomplete_consumption[t] = (1 - tax_rate) * income_shocks[t] + 0.5 * incomplete_consumption[t-1]\n",
    "\n",
    "# Plotting the results\n",
    "plt.figure(figsize=(12, 6))\n",
    "plt.plot(complete_consumption, label='Complete Markets Consumption', color='blue')\n",
    "plt.plot(incomplete_consumption, label='Incomplete Markets Consumption', color='orange')\n",
    "plt.title('Consumption Smoothing: Complete vs Incomplete Markets')\n",
    "plt.xlabel('Time Periods')\n",
    "plt.ylabel('Consumption')\n",
    "plt.legend()\n",
    "plt.grid()\n",
    "plt.show()"
   ]
  }
 ],
 "metadata": {
  "kernelspec": {
   "display_name": "Python 3 (ipykernel)",
   "language": "python",
   "name": "python3"
  },
  "language_info": {
   "codemirror_mode": {
    "name": "ipython",
    "version": 3
   },
   "file_extension": ".py",
   "mimetype": "text/x-python",
   "name": "python",
   "nbconvert_exporter": "python",
   "pygments_lexer": "ipython3",
   "version": "3.11.5"
  }
 },
 "nbformat": 4,
 "nbformat_minor": 5
}
